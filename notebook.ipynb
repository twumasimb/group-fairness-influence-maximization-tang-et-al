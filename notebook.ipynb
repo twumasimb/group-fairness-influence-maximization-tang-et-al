{
 "cells": [
  {
   "cell_type": "code",
   "execution_count": 21,
   "metadata": {},
   "outputs": [],
   "source": [
    "# Importing Libraries\n",
    "import networkx as nx\n",
    "import matplotlib.pyplot as plt\n",
    "import random\n",
    "import pickle\n",
    "import pandas as pd"
   ]
  },
  {
   "cell_type": "code",
   "execution_count": 2,
   "metadata": {},
   "outputs": [],
   "source": [
    "# Getting one network\n",
    "network = pickle.load(open('networks/graph_spa_500_0.pickle','rb')) "
   ]
  },
  {
   "cell_type": "code",
   "execution_count": 3,
   "metadata": {},
   "outputs": [],
   "source": [
    "# Make remove any directed graph undirected\n",
    "def remove_direction(directed_graph):\n",
    "    undirected_graph = nx.Graph()\n",
    "    undirected_graph.add_nodes_from(directed_graph.nodes())\n",
    "    for u,v in directed_graph.edges():\n",
    "            undirected_graph.add_edge(u,v)\n",
    "    return undirected_graph"
   ]
  },
  {
   "cell_type": "code",
   "execution_count": null,
   "metadata": {},
   "outputs": [],
   "source": [
    "# Return the Subgroups \n",
    "for i in g"
   ]
  },
  {
   "cell_type": "code",
   "execution_count": 24,
   "metadata": {},
   "outputs": [],
   "source": [
    "# This is the function I in the paper\n",
    "def Coverage(graph, set_of_nodes):\n",
    "    nodes_covered = set()\n",
    "    x = len(set_of_nodes)\n",
    "    if x == 0:\n",
    "        return 0\n",
    "    else:\n",
    "        for item in set_of_nodes:\n",
    "            node_coverage = nx.node_connected_component(graph, item)\n",
    "            nodes_covered = nodes_covered |node_coverage\n",
    "        coverage = len(nodes_covered)\n",
    "    return coverage"
   ]
  },
  {
   "cell_type": "code",
   "execution_count": 35,
   "metadata": {},
   "outputs": [
    {
     "data": {
      "text/plain": [
       "NodeView((1, 7, 12, 43, 50, 56, 60, 61, 69, 83, 85, 86, 91, 99, 107, 112, 114, 127, 131, 132, 139, 142, 145, 148, 152, 154, 168, 173, 177, 192, 204, 209, 215, 217, 233, 235, 238, 240, 247, 255, 269, 272, 273, 275, 277, 291, 292, 316, 326, 333, 334, 344, 345, 360, 361, 371, 375, 378, 387, 396, 408, 409, 411, 412, 421, 430, 451, 454))"
      ]
     },
     "execution_count": 35,
     "metadata": {},
     "output_type": "execute_result"
    }
   ],
   "source": [
    "# Make our network undirected\n",
    "undi_net = remove_direction(network)\n",
    "nodes = {1, 34, 59, 1}\n",
    "Coverage(undi_net, nodes)\n",
    "\n",
    "h = nx.Graph()\n",
    "for v in network.nodes():\n",
    "    if network.nodes[v]['ethnicity'] == 'black':\n",
    "        h.add_node(v)\n",
    "h.nodes()\n"
   ]
  },
  {
   "cell_type": "code",
   "execution_count": 33,
   "metadata": {},
   "outputs": [
    {
     "data": {
      "text/plain": [
       "{'region': 'northwest_antelope_valley',\n",
       " 'ethnicity': 'white',\n",
       " 'age': '65+',\n",
       " 'gender': 'female',\n",
       " 'status': 'obese'}"
      ]
     },
     "execution_count": 33,
     "metadata": {},
     "output_type": "execute_result"
    }
   ],
   "source": [
    "network.nodes[4]"
   ]
  },
  {
   "cell_type": "code",
   "execution_count": 36,
   "metadata": {},
   "outputs": [
    {
     "data": {
      "text/plain": [
       "{}"
      ]
     },
     "execution_count": 36,
     "metadata": {},
     "output_type": "execute_result"
    }
   ],
   "source": [
    "undi_net.nodes[4]"
   ]
  },
  {
   "cell_type": "code",
   "execution_count": null,
   "metadata": {},
   "outputs": [],
   "source": []
  }
 ],
 "metadata": {
  "kernelspec": {
   "display_name": "Python 3.9.4 64-bit",
   "language": "python",
   "name": "python3"
  },
  "language_info": {
   "codemirror_mode": {
    "name": "ipython",
    "version": 3
   },
   "file_extension": ".py",
   "mimetype": "text/x-python",
   "name": "python",
   "nbconvert_exporter": "python",
   "pygments_lexer": "ipython3",
   "version": "3.9.4"
  },
  "orig_nbformat": 4,
  "vscode": {
   "interpreter": {
    "hash": "11938c6bc6919ae2720b4d5011047913343b08a43b18698fd82dedb0d4417594"
   }
  }
 },
 "nbformat": 4,
 "nbformat_minor": 2
}
